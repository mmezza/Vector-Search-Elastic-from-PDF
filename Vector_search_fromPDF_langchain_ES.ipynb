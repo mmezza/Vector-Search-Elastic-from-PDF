{
 "cells": [
  {
   "cell_type": "code",
   "execution_count": null,
   "metadata": {},
   "outputs": [],
   "source": [
    "#Choosing model from Huggingface to be used for embedding generation\n",
    "from langchain_huggingface import HuggingFaceEmbeddings\n",
    "\n",
    "#choose the model from Hugging Face - https://huggingface.co and change the model_name, if necessary\n",
    "embeddings = HuggingFaceEmbeddings(model_name=\"rufimelo/bert-large-portuguese-cased-sts\")"
   ]
  },
  {
   "cell_type": "code",
   "execution_count": null,
   "metadata": {},
   "outputs": [],
   "source": [
    "#importing libraries from Langchain e Elastic\n",
    "from langchain_elasticsearch import ElasticsearchStore\n",
    "from elasticsearch import Elasticsearch\n",
    "import getpass\n",
    "\n",
    "#Cluster Auth\n",
    "es_cloud_id = getpass.getpass('Enter Elastic Cloud ID:  ')\n",
    "es_user = getpass.getpass('Enter cluster username:  ') \n",
    "es_pass = getpass.getpass('Enter cluster password:  ') \n",
    "\n",
    "#es_api_id = getpass.getpass('Enter cluster API key ID:  ') \n",
    "#es_api_key = getpass.getpass('Enter cluster API key:  ')"
   ]
  },
  {
   "cell_type": "code",
   "execution_count": null,
   "metadata": {},
   "outputs": [],
   "source": [
    "#PDF Loading\n",
    "from langchain_community.document_loaders import PyPDFLoader\n",
    "from langchain.text_splitter import RecursiveCharacterTextSplitter\n",
    "\n",
    "# Change to any PDF of your choice\n",
    "loader = PyPDFLoader(\"/Users/marcusmezzarana/Downloads/hypera/PREDSIM-PATIENT-61082426000207-xrnn.pdf\")\n",
    "\n",
    "data = loader.load()\n",
    "\n",
    "text_splitter = RecursiveCharacterTextSplitter.from_tiktoken_encoder(\n",
    "    chunk_size=512, chunk_overlap=10\n",
    ")\n",
    "docs = loader.load_and_split(text_splitter=text_splitter)"
   ]
  },
  {
   "cell_type": "code",
   "execution_count": null,
   "metadata": {},
   "outputs": [],
   "source": [
    "vector_store = ElasticsearchStore.from_documents(\n",
    "    docs,\n",
    "    es_cloud_id=es_cloud_id,\n",
    "    #Change the Index_name\n",
    "    index_name=\"test_index\",\n",
    "    embedding=embeddings,\n",
    "    es_user=es_user,\n",
    "    es_password=es_pass,\n",
    ")"
   ]
  },
  {
   "cell_type": "code",
   "execution_count": null,
   "metadata": {},
   "outputs": [],
   "source": [
    "#Optional - test querying the document\n",
    "results = vector_store.similarity_search(\n",
    "    query=\"COMO ESTE MEDICAMENTO FUNCIONA?\",\n",
    "    k=1,\n",
    ")\n",
    "for res in results:\n",
    "    print(f\"* {res.page_content} [{res.metadata}]\")"
   ]
  }
 ],
 "metadata": {
  "kernelspec": {
   "display_name": "Python 3 (ipykernel)",
   "language": "python",
   "name": "python3"
  },
  "language_info": {
   "codemirror_mode": {
    "name": "ipython",
    "version": 3
   },
   "file_extension": ".py",
   "mimetype": "text/x-python",
   "name": "python",
   "nbconvert_exporter": "python",
   "pygments_lexer": "ipython3",
   "version": "3.12.4"
  }
 },
 "nbformat": 4,
 "nbformat_minor": 4
}
