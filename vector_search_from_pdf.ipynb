{
 "cells": [
  {
   "cell_type": "code",
   "execution_count": null,
   "id": "fe8218e8-8050-450b-863a-a340d19e722e",
   "metadata": {},
   "outputs": [],
   "source": [
    "import base64\n",
    "import os\n",
    "\n",
    "# Função para converter PDF em Base64\n",
    "def convert_pdf_to_base64(pdf_path):\n",
    "    with open(pdf_path, \"rb\") as pdf_file:\n",
    "        # Lê o arquivo PDF como binário e converte para base64\n",
    "        encoded_pdf = base64.b64encode(pdf_file.read()).decode('utf-8')\n",
    "    return encoded_pdf\n",
    "\n",
    "# Função para salvar o base64 em arquivo txt\n",
    "def save_base64_to_txt(base64_content, output_txt_path):\n",
    "    with open(output_txt_path, 'w', encoding='utf-8') as txt_file:\n",
    "        txt_file.write(base64_content)\n",
    "\n",
    "# Função principal para processar todos os PDFs no diretório\n",
    "def process_pdf_files(input_directory, output_directory):\n",
    "    if not os.path.exists(output_directory):\n",
    "        os.makedirs(output_directory)\n",
    "\n",
    "    for filename in os.listdir(input_directory):\n",
    "        if filename.endswith(\".pdf\"):\n",
    "            pdf_path = os.path.join(input_directory, filename)\n",
    "            base64_content = convert_pdf_to_base64(pdf_path)\n",
    "            \n",
    "            # Define o caminho do arquivo txt de saída\n",
    "            output_txt_path = os.path.join(output_directory, f\"{os.path.splitext(filename)[0]}.txt\")\n",
    "            \n",
    "            # Salva o conteúdo Base64 em um arquivo txt\n",
    "            save_base64_to_txt(base64_content, output_txt_path)\n",
    "            print(f\"Arquivo convertido e salvo: {output_txt_path}\")\n",
    "\n",
    "if __name__ == \"__main__\":\n",
    "    # Diretórios de entrada e saída (substitua pelos seus caminhos)\n",
    "    input_pdf_directory = \"/Users/xyz/abc/xyz\"\n",
    "    output_txt_directory = \"/Users/xyz/abc/xyz\"\n",
    "\n",
    "    # Processa os arquivos PDF\n",
    "    process_pdf_files(input_pdf_directory, output_txt_directory)\n"
   ]
  },
  {
   "cell_type": "code",
   "execution_count": null,
   "id": "91887b3c-84b1-404b-9fe8-4aa4922db43c",
   "metadata": {},
   "outputs": [],
   "source": [
    "# import modules\n",
    "from elasticsearch import Elasticsearch\n",
    "from getpass import getpass\n",
    "from urllib.request import urlopen\n",
    "import json\n",
    "from time import sleep"
   ]
  },
  {
   "cell_type": "code",
   "execution_count": null,
   "id": "10114b18-7371-4765-9608-3a70137fc332",
   "metadata": {},
   "outputs": [],
   "source": [
    "from pathlib import Path\n",
    "from eland.ml.pytorch import PyTorchModel\n",
    "from eland.ml.pytorch.transformers import TransformerModel\n",
    "from elasticsearch import Elasticsearch\n",
    "from elasticsearch.client import MlClient\n",
    "\n",
    "import getpass"
   ]
  },
  {
   "cell_type": "code",
   "execution_count": null,
   "id": "32590c5a-f420-4f5d-9b6a-aa7659771cb9",
   "metadata": {},
   "outputs": [],
   "source": [
    "es_cloud_id = getpass.getpass('Enter Elastic Cloud ID:  ')\n",
    "es_user = getpass.getpass('Enter cluster username:  ') \n",
    "es_pass = getpass.getpass('Enter cluster password:  ') \n",
    "\n",
    "#es_api_id = getpass.getpass('Enter cluster API key ID:  ') \n",
    "#es_api_key = getpass.getpass('Enter cluster API key:  ')"
   ]
  },
  {
   "cell_type": "code",
   "execution_count": null,
   "id": "d1d1b6cc-148d-4beb-8fc6-abfa5e35a8bd",
   "metadata": {},
   "outputs": [],
   "source": [
    "#es = Elasticsearch(cloud_id=es_cloud_id, \n",
    "#                   api_key=(es_api_id, es_api_key)\n",
    "#                   )\n",
    "es = Elasticsearch(cloud_id=es_cloud_id, \n",
    "                   basic_auth=(es_user, es_pass)\n",
    "                   )\n",
    "es.info() # should return cluster info\n",
    "     "
   ]
  },
  {
   "cell_type": "code",
   "execution_count": null,
   "id": "0a6a6191-5890-49cb-abbd-48bf8db64bc8",
   "metadata": {},
   "outputs": [],
   "source": [
    "from elasticsearch import Elasticsearch\n",
    "import os\n",
    "\n",
    "# Função para ler um arquivo .txt e armazenar o conteúdo\n",
    "def read_txt_file(file_path):\n",
    "    if os.path.exists(file_path):\n",
    "        with open(file_path, 'r', encoding='utf-8') as file:\n",
    "            file_content = file.read()\n",
    "        return file_content\n",
    "    else:\n",
    "        raise FileNotFoundError(f\"Arquivo {file_path} não encontrado.\")\n",
    "\n",
    "# Função para inserir um arquivo no Elasticsearch\n",
    "def insert_file_into_elasticsearch(file_path, es_client, file_id):\n",
    "    try:\n",
    "        file_content = read_txt_file(file_path)\n",
    "        # Inserindo o arquivo no Elasticsearch com o ID e pipeline especificados\n",
    "        response = es_client.index(\n",
    "            index=\"search-index-name-pt\",\n",
    "            id=file_id,  # ID exclusivo para cada arquivo\n",
    "            body={\n",
    "                \"filename\": os.path.basename(file_path),\n",
    "                \"data\": file_content  # Inserindo o conteúdo no campo 'data'\n",
    "            },\n",
    "            pipeline=\"text-embeddings-frompdf-pt\"  # Usando a pipeline de ingestão\n",
    "        )\n",
    "        print(f\"Arquivo {file_path} inserido com sucesso com ID {file_id}: {response}\")\n",
    "    except Exception as e:\n",
    "        print(f\"Erro ao inserir {file_path}: {e}\")\n",
    "\n",
    "if __name__ == \"__main__\":\n",
    "    # Caminho do diretório onde estão os arquivos .txt\n",
    "    txt_directory = \"/Users/xyz/abc/xyz\"  # Substitua pelo caminho correto\n",
    "\n",
    "    # Iterando sobre os arquivos do diretório e inserindo um por um\n",
    "    file_id = 1  # Começa com ID 1\n",
    "    for filename in os.listdir(txt_directory):\n",
    "        if filename.endswith(\".txt\"):\n",
    "            file_path = os.path.join(txt_directory, filename)\n",
    "            # Inserindo cada arquivo com um ID exclusivo\n",
    "            insert_file_into_elasticsearch(file_path, es, file_id)\n",
    "            file_id += 1  # Incrementa o ID para o próximo arquivo\n"
   ]
  }
 ],
 "metadata": {
  "kernelspec": {
   "display_name": "Python 3 (ipykernel)",
   "language": "python",
   "name": "python3"
  },
  "language_info": {
   "codemirror_mode": {
    "name": "ipython",
    "version": 3
   },
   "file_extension": ".py",
   "mimetype": "text/x-python",
   "name": "python",
   "nbconvert_exporter": "python",
   "pygments_lexer": "ipython3",
   "version": "3.12.4"
  }
 },
 "nbformat": 4,
 "nbformat_minor": 5
}
